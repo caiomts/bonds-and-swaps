{
 "cells": [
  {
   "cell_type": "markdown",
   "metadata": {},
   "source": [
    "# Interest Rate Swap\n",
    "*Swaps are multiperiod extensions of forward contracts*\n",
    "- plain vanilla swap\n",
    "    - call for exchange of a series of CF proportional to a **given interest rate** for a corresponding series of CF proportional to a **floating interest rate**.\n",
    "- quoted as bid/ask on fixed leg\n",
    "- Pay/receive is related to the fixed leg. Thus Short/Long to the interest rate risk.\n",
    "\n",
    "## Swap pricing\n",
    "- $\\text{At }t=0\\leftarrow CF_{fixed}=CF_{floating}$\n",
    "- The value of the swap at date *t* is the difference between the value of the fixed leg and the value of the floating leg.\n",
    "- zero-coupon method\n",
    "- the forward projection maret approach\n",
    "    - the future floating rates of the floating leg are equal to the forward rates\n",
    "\n",
    "7y bond quoted 103.5% md equal to 6.9\n",
    "- hedge IRS (10y swap quoting 0.5%)\n",
    "    - pay the swap\n",
    "- DV01 of the swap\n",
    "    - $DV01=MD\\times Price\\times 0.01\\%$"
   ]
  },
  {
   "cell_type": "code",
   "execution_count": 18,
   "metadata": {},
   "outputs": [],
   "source": [
    "from ipynb.fs.defs.bonds import quoted_bond_price\n",
    "# Swap DV01 10y 0.5% yield = 0.5% - 0.01% = 0.49%\n",
    "dv01_swap = quoted_bond_price(10, 0.0049, 0.005)-1"
   ]
  },
  {
   "cell_type": "markdown",
   "metadata": {},
   "source": [
    "    - What swap amount should be traded?"
   ]
  },
  {
   "cell_type": "code",
   "execution_count": 21,
   "metadata": {},
   "outputs": [
    {
     "data": {
      "text/plain": [
       "0.7335374519916514"
      ]
     },
     "execution_count": 21,
     "metadata": {},
     "output_type": "execute_result"
    }
   ],
   "source": [
    "dv01_bond = 6.9*1.035*0.0001\n",
    "dv01_bond/dv01_swap"
   ]
  },
  {
   "cell_type": "markdown",
   "metadata": {},
   "source": [
    "    - What is the value of the swap if rates move to 1%\n",
    "    Pay the swap means receive the floating leg, floating leg increases, so unwind the swap means receive."
   ]
  },
  {
   "cell_type": "code",
   "execution_count": 24,
   "metadata": {},
   "outputs": [
    {
     "data": {
      "text/plain": [
       "0.047356522653508426"
      ]
     },
     "execution_count": 24,
     "metadata": {},
     "output_type": "execute_result"
    }
   ],
   "source": [
    "1 - quoted_bond_price(10, 0.01, 0.005)"
   ]
  },
  {
   "cell_type": "markdown",
   "metadata": {},
   "source": [
    "IF a company issue a new bond (1% 10y) and want to bear floating debt, meaning receive the fixed leg, so it should receive the swap."
   ]
  },
  {
   "cell_type": "code",
   "execution_count": 35,
   "metadata": {},
   "outputs": [
    {
     "data": {
      "text/plain": [
       "8.969663036006944"
      ]
     },
     "execution_count": 35,
     "metadata": {},
     "output_type": "execute_result"
    }
   ],
   "source": [
    "# hedging a bond (10M dv01=0.085%). swap 10y yielding 1%\n",
    "# to hedge a bond you should pay the the swap.\n",
    "# What amount of swap should be traded?\n",
    "dv01 = quoted_bond_price(10, 0.0099, 0.01) - 1\n",
    "hr = 0.00085/dv01\n",
    "10*hr"
   ]
  },
  {
   "cell_type": "code",
   "execution_count": 37,
   "metadata": {},
   "outputs": [
    {
     "data": {
      "text/plain": [
       "0.01696586119750676"
      ]
     },
     "execution_count": 37,
     "metadata": {},
     "output_type": "execute_result"
    }
   ],
   "source": [
    "# What is the value of the swap (for the investor) after 1 year if it trades at 1,20%?\n",
    "1 - quoted_bond_price(9, 0.012, 0.01)"
   ]
  },
  {
   "cell_type": "code",
   "execution_count": 41,
   "metadata": {},
   "outputs": [
    {
     "data": {
      "text/plain": [
       "84905.58528724882"
      ]
     },
     "execution_count": 41,
     "metadata": {},
     "output_type": "execute_result"
    }
   ],
   "source": [
    "# What is the Swap P&L of the investor after one year, considering that the one year Libor was fixed initially at 0,25%?\n",
    "(0.01696586119750676 - 0.01 + 0.0025)*8969663.036006944"
   ]
  }
 ],
 "metadata": {
  "kernelspec": {
   "display_name": "Python 3",
   "language": "python",
   "name": "python3"
  },
  "language_info": {
   "codemirror_mode": {
    "name": "ipython",
    "version": 3
   },
   "file_extension": ".py",
   "mimetype": "text/x-python",
   "name": "python",
   "nbconvert_exporter": "python",
   "pygments_lexer": "ipython3",
   "version": "3.8.3"
  }
 },
 "nbformat": 4,
 "nbformat_minor": 4
}
