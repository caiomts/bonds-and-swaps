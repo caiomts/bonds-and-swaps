{
 "cells": [
  {
   "cell_type": "markdown",
   "metadata": {},
   "source": [
    "# List\n",
    "\n",
    "* Collection o related objects\n",
    "* Ordered\n",
    "* Mutable"
   ]
  },
  {
   "cell_type": "markdown",
   "metadata": {},
   "source": [
    "## Creating lists"
   ]
  },
  {
   "cell_type": "code",
   "execution_count": 7,
   "metadata": {},
   "outputs": [
    {
     "name": "stdout",
     "output_type": "stream",
     "text": [
      "[4, 'x', 6.3, [2, 5, 'y']] [] []\n"
     ]
    }
   ],
   "source": [
    "x = [4, 'x', 6.3, [2, 5, 'y']] #Objects in a list might be differents\n",
    "y = list() # empty list\n",
    "y = [] #empty list\n",
    "z = list([])\n",
    "print(x, y, z)"
   ]
  },
  {
   "cell_type": "markdown",
   "metadata": {},
   "source": [
    "## Adding items to a list"
   ]
  },
  {
   "cell_type": "code",
   "execution_count": 8,
   "metadata": {},
   "outputs": [
    {
     "name": "stdout",
     "output_type": "stream",
     "text": [
      "[1]\n",
      "[1, 2]\n",
      "[0, 1, 2]\n",
      "[0, 1, 2, 3, 4, 5]\n"
     ]
    }
   ],
   "source": [
    "y.append(1)\n",
    "print(y)\n",
    "y.append(2) #always adds the item to the back of the list\n",
    "print(y)\n",
    "y.insert(0,0) #inserts 0 at location 0. First the location, second the item\n",
    "print(y)\n",
    "z = [3, 4, 5]\n",
    "y.extend(z) #unpacks the list and adds each item to the back of the list\n",
    "print(y)"
   ]
  },
  {
   "cell_type": "markdown",
   "metadata": {},
   "source": [
    "## Removing items from a list"
   ]
  },
  {
   "cell_type": "code",
   "execution_count": 9,
   "metadata": {},
   "outputs": [
    {
     "name": "stdout",
     "output_type": "stream",
     "text": [
      "[0, 1, 2, 3, 4]\n",
      "[0, 1, 3, 4]\n",
      "[0, 1, 3]\n"
     ]
    }
   ],
   "source": [
    "y.pop() #removes the last item from a list\n",
    "print(y)\n",
    "y.pop(2) #removes the second location from a list\n",
    "print(y)\n",
    "y.remove(4) #removes the first item which matches in the list\n",
    "print(y)"
   ]
  },
  {
   "cell_type": "markdown",
   "metadata": {},
   "source": [
    "## Mutable vs Immutable\n",
    "\n",
    "*int, str, bool, float* are **immutable**\n",
    "*list* is **mutable**"
   ]
  },
  {
   "cell_type": "code",
   "execution_count": 1,
   "metadata": {},
   "outputs": [
    {
     "name": "stdout",
     "output_type": "stream",
     "text": [
      "Hello 2346517856304\n",
      "Hello You! 2346517764272\n",
      "['Hello'] 2346517073416\n",
      "['Hello', 'You!'] 2346517073416\n"
     ]
    }
   ],
   "source": [
    "x=\"Hello\"\n",
    "print(x,id(x))\n",
    "x+=\" You!\"\n",
    "print(x,id(x)) #x is not the same object it was\n",
    "y=[\"Hello\"]\n",
    "print(y,id(y))\n",
    "y+=[\"You!\"] \n",
    "print(y,id(y)) #y is still the same object. Lists are mutable. Strings are immutable"
   ]
  },
  {
   "cell_type": "markdown",
   "metadata": {},
   "source": [
    "# Tuples\n",
    "* Sequencial\n",
    "* Immutable\n",
    "\n",
    "Tuples are just like lists, except they aren't mutable. All list operation, except for change, are also valid for tuple."
   ]
  },
  {
   "cell_type": "code",
   "execution_count": 2,
   "metadata": {},
   "outputs": [
    {
     "name": "stdout",
     "output_type": "stream",
     "text": [
      "(1, 3, 4)\n"
     ]
    },
    {
     "data": {
      "text/plain": [
       "tuple"
      ]
     },
     "execution_count": 2,
     "metadata": {},
     "output_type": "execute_result"
    }
   ],
   "source": [
    "x = (1, 3, 4)\n",
    "print (x)\n",
    "type(x)"
   ]
  },
  {
   "cell_type": "markdown",
   "metadata": {},
   "source": [
    "# Iteration"
   ]
  },
  {
   "cell_type": "code",
   "execution_count": 3,
   "metadata": {},
   "outputs": [
    {
     "name": "stdout",
     "output_type": "stream",
     "text": [
      "1\n",
      "7\n",
      "2\n",
      "5\n",
      "3\n",
      "5\n",
      "67\n",
      "32\n"
     ]
    }
   ],
   "source": [
    "#The for loop creates a new variable (e.g., index below)\n",
    "#range(len(x)) generates values from 0 to len(x) \n",
    "x=[1,7,2,5,3,5,67,32]\n",
    "for index in range(len(x)):\n",
    "    print(x[index])"
   ]
  },
  {
   "cell_type": "code",
   "execution_count": 4,
   "metadata": {},
   "outputs": [
    {
     "data": {
      "text/plain": [
       "range(0, 8)"
      ]
     },
     "execution_count": 4,
     "metadata": {},
     "output_type": "execute_result"
    }
   ],
   "source": [
    "range(len(x))"
   ]
  },
  {
   "cell_type": "code",
   "execution_count": 5,
   "metadata": {},
   "outputs": [
    {
     "name": "stdout",
     "output_type": "stream",
     "text": [
      "AAPL 96.43\n",
      "IONS 39.28\n",
      "GS 159.53\n"
     ]
    }
   ],
   "source": [
    "prices = [('AAPL',96.43),('IONS',39.28),('GS',159.53)]\n",
    "for index in range(len(prices)):\n",
    "    print(prices[index][0], prices[index][1])"
   ]
  },
  {
   "cell_type": "code",
   "execution_count": 6,
   "metadata": {},
   "outputs": [
    {
     "name": "stdout",
     "output_type": "stream",
     "text": [
      "AAPL 96.43\n",
      "IONS 39.28\n",
      "GS 159.53\n"
     ]
    }
   ],
   "source": [
    "for stock_price in prices:\n",
    "    print(stock_price[0],stock_price[1])"
   ]
  },
  {
   "cell_type": "code",
   "execution_count": 11,
   "metadata": {},
   "outputs": [
    {
     "name": "stdout",
     "output_type": "stream",
     "text": [
      "Please enter a ticker: GS\n",
      "GS 159.53\n"
     ]
    }
   ],
   "source": [
    "ticker = input('Please enter a ticker: ')\n",
    "for item in prices:\n",
    "    if item[0] == ticker:\n",
    "        print(ticker, item[1])\n",
    "        break #breaks the iteration after the first item matches with \"if\" statement\n",
    "else: # Only occurs if the loop never hits a \"break\"\n",
    "        print('Sorry', ticker, 'was not found')\n"
   ]
  },
  {
   "cell_type": "markdown",
   "metadata": {},
   "source": [
    "## Practice problem\n",
    "\n",
    "Write a function search_list that shearches a list of tuple pairs and returns the value associeted with the first element of the pair"
   ]
  },
  {
   "cell_type": "code",
   "execution_count": 12,
   "metadata": {},
   "outputs": [],
   "source": [
    "def search_list(list_of_tuples, value):\n",
    "    for item in list_of_tuples:\n",
    "        if item[0] == value:\n",
    "            return item[1] #When the function hits a 'return' statements,\n",
    "                           #it ends. It does not need the 'break' \n",
    "    #else: print('Sorry', value, 'was not found') possible, but not necessary.\n",
    "    return 0 #outside of the 'for',so the 'for' runs entirely before returns 0"
   ]
  },
  {
   "cell_type": "code",
   "execution_count": 14,
   "metadata": {},
   "outputs": [
    {
     "name": "stdout",
     "output_type": "stream",
     "text": [
      "159.53\n"
     ]
    }
   ],
   "source": [
    "prices = [('AAPL',96.43),('IONS',39.28),('GS',159.53)]\n",
    "ticker = 'GS'\n",
    "print(search_list(prices,ticker))"
   ]
  },
  {
   "cell_type": "markdown",
   "metadata": {},
   "source": [
    "# Dictionaries\n",
    "\n",
    "A pairs of elements. The first one is the key\n",
    "\n",
    "*Keys are immutable and uniques*"
   ]
  },
  {
   "cell_type": "code",
   "execution_count": 2,
   "metadata": {},
   "outputs": [],
   "source": [
    "mktcaps = {'AAPL':538.7,'GOOG':68.7,'IONS':4.6}"
   ]
  },
  {
   "cell_type": "code",
   "execution_count": 17,
   "metadata": {},
   "outputs": [
    {
     "data": {
      "text/plain": [
       "68.7"
      ]
     },
     "execution_count": 17,
     "metadata": {},
     "output_type": "execute_result"
    }
   ],
   "source": [
    "mktcaps['GOOG']"
   ]
  },
  {
   "cell_type": "code",
   "execution_count": 19,
   "metadata": {},
   "outputs": [
    {
     "data": {
      "text/plain": [
       "4.6"
      ]
     },
     "execution_count": 19,
     "metadata": {},
     "output_type": "execute_result"
    }
   ],
   "source": [
    "mktcaps.get('IONS')"
   ]
  },
  {
   "cell_type": "code",
   "execution_count": 37,
   "metadata": {},
   "outputs": [],
   "source": [
    "mktcaps['GS'] = 88.65 #GS is added to the dictionary"
   ]
  },
  {
   "cell_type": "code",
   "execution_count": 6,
   "metadata": {},
   "outputs": [
    {
     "data": {
      "text/plain": [
       "dict_keys(['AAPL', 'GOOG', 'IONS'])"
      ]
     },
     "execution_count": 6,
     "metadata": {},
     "output_type": "execute_result"
    }
   ],
   "source": [
    "mktcaps.keys() #Returns all the keys"
   ]
  },
  {
   "cell_type": "code",
   "execution_count": 31,
   "metadata": {},
   "outputs": [
    {
     "data": {
      "text/plain": [
       "dict_values([538.7, 68.7, 4.6])"
      ]
     },
     "execution_count": 31,
     "metadata": {},
     "output_type": "execute_result"
    }
   ],
   "source": [
    "mktcaps.values() #Returns all the values"
   ]
  },
  {
   "cell_type": "code",
   "execution_count": 33,
   "metadata": {},
   "outputs": [],
   "source": [
    "del(mktcaps['GOOG']) #Deletes GOOG from the dictionary"
   ]
  },
  {
   "cell_type": "code",
   "execution_count": 35,
   "metadata": {},
   "outputs": [
    {
     "name": "stdout",
     "output_type": "stream",
     "text": [
      "{'AAPL': 538.7, 'IONS': 4.6, 'GS': 88.65}\n"
     ]
    }
   ],
   "source": [
    "print(mktcaps)"
   ]
  },
  {
   "cell_type": "code",
   "execution_count": 38,
   "metadata": {},
   "outputs": [
    {
     "data": {
      "text/plain": [
       "['AAPL', 'GS', 'IONS']"
      ]
     },
     "execution_count": 38,
     "metadata": {},
     "output_type": "execute_result"
    }
   ],
   "source": [
    "sorted(mktcaps.keys()) #Returns all the keys sorted"
   ]
  },
  {
   "cell_type": "markdown",
   "metadata": {},
   "source": [
    "# Sets\n",
    "\n",
    "Anordered collections like dictionaries, without keys. There is not duplicate values"
   ]
  },
  {
   "cell_type": "code",
   "execution_count": 47,
   "metadata": {},
   "outputs": [],
   "source": [
    "x = {1, 3, 6, 7, 9}\n",
    "y = {2, 4, 8}"
   ]
  },
  {
   "cell_type": "code",
   "execution_count": 43,
   "metadata": {},
   "outputs": [
    {
     "data": {
      "text/plain": [
       "True"
      ]
     },
     "execution_count": 43,
     "metadata": {},
     "output_type": "execute_result"
    }
   ],
   "source": [
    "1 in x"
   ]
  },
  {
   "cell_type": "code",
   "execution_count": 45,
   "metadata": {},
   "outputs": [
    {
     "data": {
      "text/plain": [
       "False"
      ]
     },
     "execution_count": 45,
     "metadata": {},
     "output_type": "execute_result"
    }
   ],
   "source": [
    "1 not in x"
   ]
  },
  {
   "cell_type": "code",
   "execution_count": 50,
   "metadata": {},
   "outputs": [
    {
     "data": {
      "text/plain": [
       "True"
      ]
     },
     "execution_count": 50,
     "metadata": {},
     "output_type": "execute_result"
    }
   ],
   "source": [
    "x.isdisjoint(y) #empty intersection"
   ]
  },
  {
   "cell_type": "code",
   "execution_count": 52,
   "metadata": {},
   "outputs": [
    {
     "data": {
      "text/plain": [
       "False"
      ]
     },
     "execution_count": 52,
     "metadata": {},
     "output_type": "execute_result"
    }
   ],
   "source": [
    "x <= y #subset test"
   ]
  },
  {
   "cell_type": "code",
   "execution_count": 54,
   "metadata": {},
   "outputs": [
    {
     "data": {
      "text/plain": [
       "False"
      ]
     },
     "execution_count": 54,
     "metadata": {},
     "output_type": "execute_result"
    }
   ],
   "source": [
    "y < x #subset"
   ]
  },
  {
   "cell_type": "code",
   "execution_count": 57,
   "metadata": {},
   "outputs": [
    {
     "data": {
      "text/plain": [
       "False"
      ]
     },
     "execution_count": 57,
     "metadata": {},
     "output_type": "execute_result"
    }
   ],
   "source": [
    "x > y #superset"
   ]
  },
  {
   "cell_type": "code",
   "execution_count": 60,
   "metadata": {},
   "outputs": [
    {
     "data": {
      "text/plain": [
       "set()"
      ]
     },
     "execution_count": 60,
     "metadata": {},
     "output_type": "execute_result"
    }
   ],
   "source": [
    "x & y #intersection"
   ]
  },
  {
   "cell_type": "code",
   "execution_count": 62,
   "metadata": {},
   "outputs": [
    {
     "data": {
      "text/plain": [
       "{1, 2, 3, 4, 6, 7, 8, 9}"
      ]
     },
     "execution_count": 62,
     "metadata": {},
     "output_type": "execute_result"
    }
   ],
   "source": [
    "x | y #union"
   ]
  },
  {
   "cell_type": "code",
   "execution_count": 63,
   "metadata": {},
   "outputs": [
    {
     "data": {
      "text/plain": [
       "{1, 3, 6, 7, 9}"
      ]
     },
     "execution_count": 63,
     "metadata": {},
     "output_type": "execute_result"
    }
   ],
   "source": [
    "x - y #set difference"
   ]
  },
  {
   "cell_type": "code",
   "execution_count": 74,
   "metadata": {},
   "outputs": [],
   "source": [
    "dict1 = {\"a\":1, \"b\":2}"
   ]
  },
  {
   "cell_type": "code",
   "execution_count": 75,
   "metadata": {},
   "outputs": [],
   "source": [
    "del dict1['a']"
   ]
  },
  {
   "cell_type": "markdown",
   "metadata": {},
   "source": [
    "# datetime library"
   ]
  },
  {
   "cell_type": "markdown",
   "metadata": {},
   "source": [
    "## The datetime library contains several useful types\n",
    "* date: stores the date (month,day,year)\n",
    "* time: stores the time (hours,minutes,seconds)\n",
    "* datetime: stores the date as well as the time (month,day,year,hours,minutes,seconds)\n",
    "* timedelta: duration between two datetime or date objects"
   ]
  },
  {
   "cell_type": "code",
   "execution_count": 3,
   "metadata": {},
   "outputs": [
    {
     "data": {
      "text/plain": [
       "datetime.date(2017, 10, 24)"
      ]
     },
     "execution_count": 3,
     "metadata": {},
     "output_type": "execute_result"
    }
   ],
   "source": [
    "import datetime\n",
    "d1 = datetime.date(2016,11,24)\n",
    "d2 = datetime.date(2017,10,24)\n",
    "max(d1,d2)"
   ]
  },
  {
   "cell_type": "code",
   "execution_count": 81,
   "metadata": {},
   "outputs": [
    {
     "name": "stdout",
     "output_type": "stream",
     "text": [
      "334 days, 0:00:00\n"
     ]
    }
   ],
   "source": [
    "print(d2 - d1)"
   ]
  },
  {
   "cell_type": "markdown",
   "metadata": {},
   "source": [
    "## datetime.date"
   ]
  },
  {
   "cell_type": "code",
   "execution_count": 4,
   "metadata": {},
   "outputs": [
    {
     "name": "stdout",
     "output_type": "stream",
     "text": [
      "2000-01-01 2020-02-23\n",
      "We are 7358 days, 0:00:00 days into this century\n"
     ]
    }
   ],
   "source": [
    "century_start = datetime.date(2000,1,1)\n",
    "today = datetime.date.today()\n",
    "print(century_start,today)\n",
    "print(\"We are\",today-century_start,\"days into this century\")"
   ]
  },
  {
   "cell_type": "code",
   "execution_count": 5,
   "metadata": {},
   "outputs": [
    {
     "name": "stdout",
     "output_type": "stream",
     "text": [
      "We are 7358 days into this century\n"
     ]
    }
   ],
   "source": [
    "print('We are', (today-century_start).days, 'days into this century')\n",
    "#For a cleaner output"
   ]
  },
  {
   "cell_type": "markdown",
   "metadata": {},
   "source": [
    "## datetime.datetime"
   ]
  },
  {
   "cell_type": "code",
   "execution_count": 88,
   "metadata": {},
   "outputs": [
    {
     "name": "stdout",
     "output_type": "stream",
     "text": [
      "2000-01-01 00:00:00 2020-02-22 17:13:34.507590\n",
      "we are 7357 days, 17:13:34.507590 days, hour, minutes and seconds into this century\n"
     ]
    }
   ],
   "source": [
    "century_start = datetime.datetime(2000,1,1,0,0,0)\n",
    "time_now = datetime.datetime.now()\n",
    "print(century_start,time_now)\n",
    "print(\"we are\",time_now - century_start,\"days, hour, minutes and seconds into this century\")"
   ]
  },
  {
   "cell_type": "markdown",
   "metadata": {},
   "source": [
    "## datetime.timedelta\n",
    "\n",
    "* Used to store the duration between two points in time\n",
    "* Can do arithmetic operations on datetime objects"
   ]
  },
  {
   "cell_type": "code",
   "execution_count": 7,
   "metadata": {},
   "outputs": [
    {
     "name": "stdout",
     "output_type": "stream",
     "text": [
      "days since century start 7358\n",
      "seconds since century start 635763959.017714\n",
      "minutes since century start 10596065.983628567\n",
      "hours since century start 176601.09972714278\n"
     ]
    }
   ],
   "source": [
    "century_start = datetime.datetime(2000,1,1,0,0,0)\n",
    "time_now = datetime.datetime.now()\n",
    "time_since_century_start = time_now - century_start\n",
    "print(\"days since century start\",time_since_century_start.days)\n",
    "print(\"seconds since century start\",time_since_century_start.total_seconds())\n",
    "print(\"minutes since century start\",time_since_century_start.total_seconds()/60)\n",
    "print(\"hours since century start\",time_since_century_start.total_seconds()/60/60)"
   ]
  },
  {
   "cell_type": "code",
   "execution_count": 9,
   "metadata": {},
   "outputs": [
    {
     "name": "stdout",
     "output_type": "stream",
     "text": [
      "2020-02-23 09:09:25.197403\n",
      "09:09:25.197403\n"
     ]
    }
   ],
   "source": [
    "date_and_time_now = datetime.datetime.now()\n",
    "print(date_and_time_now)\n",
    "time_now = date_and_time_now.time()\n",
    "print(time_now)"
   ]
  },
  {
   "cell_type": "code",
   "execution_count": 12,
   "metadata": {},
   "outputs": [
    {
     "name": "stdout",
     "output_type": "stream",
     "text": [
      "2020-02-23 09:17:18.453387\n",
      "2020-02-23 09:22:23.453387\n"
     ]
    }
   ],
   "source": [
    "today = datetime.datetime.today()\n",
    "print(today)\n",
    "today_plus_five_min_and_five_sec = today + datetime.timedelta(minutes = 5, seconds = 5)\n",
    "#It's not allowed to use timedelta on time objects!\n",
    "print(today_plus_five_min_and_five_sec)"
   ]
  },
  {
   "cell_type": "markdown",
   "metadata": {},
   "source": [
    "## datetime and strings\n",
    "\n",
    "* datetime.strptime(): grabs time from a string and creates a date or datetime or time object\n",
    "* The programmer needs to tell the function what format the string is using\n",
    "* See http://pubs.opengroup.org/onlinepubs/009695399/functions/strptime.html for how to specify the format"
   ]
  },
  {
   "cell_type": "code",
   "execution_count": 19,
   "metadata": {},
   "outputs": [
    {
     "name": "stdout",
     "output_type": "stream",
     "text": [
      "2010-10-25 00:00:00\n",
      "2010-01-01 00:00:00\n"
     ]
    }
   ],
   "source": [
    "# datetime.strptime()\n",
    "date = '25/10/10'\n",
    "date_object = datetime.datetime.strptime(date, '%d/%m/%y')\n",
    "print(date_object)\n",
    "date2 = '1-Jan-2010'\n",
    "date2_object = datetime.datetime.strptime(date2, '%d-%b-%Y')\n",
    "print(date2_object)"
   ]
  },
  {
   "cell_type": "code",
   "execution_count": 18,
   "metadata": {},
   "outputs": [
    {
     "name": "stdout",
     "output_type": "stream",
     "text": [
      "2:43:00 <class 'datetime.timedelta'>\n"
     ]
    }
   ],
   "source": [
    "# there is no similar thing for time delta\n",
    "bus = '2:43'\n",
    "hours, minutes = bus.split(':')\n",
    "bus_object = datetime.timedelta(hours = int(hours), minutes = int(minutes))\n",
    "print(bus_object, type(bus_object))\n"
   ]
  },
  {
   "cell_type": "code",
   "execution_count": 22,
   "metadata": {},
   "outputs": [
    {
     "name": "stdout",
     "output_type": "stream",
     "text": [
      "2020/02/23 - 09:43:26\n",
      "2020-02-23 09:43:26.382961\n"
     ]
    }
   ],
   "source": [
    "# datetime.strftime()\n",
    "now = datetime.datetime.now()\n",
    "string_date = datetime.datetime.strftime(now, '%Y/%m/%d - %H:%M:%S')\n",
    "print(string_date)\n",
    "print(str(now)) #Default conversion"
   ]
  },
  {
   "cell_type": "markdown",
   "metadata": {},
   "source": [
    "# Exemple - Bucketing time\n",
    "\n",
    "The file \"sample_data.csv\" contains start times and processing times for all complaints registered with New York City's 311 complaint hotline on 01/01/2016. Our goal is to compute the average processing time for each hourly bucket."
   ]
  },
  {
   "cell_type": "markdown",
   "metadata": {},
   "source": [
    "## Reading the data"
   ]
  },
  {
   "cell_type": "code",
   "execution_count": 64,
   "metadata": {},
   "outputs": [
    {
     "data": {
      "text/plain": [
       "[['2016-01-01 00:00:09', '0.0815162037037037'],\n",
       " ['2016-01-01 00:00:40', '0.1334837962962963'],\n",
       " ['2016-01-01 00:01:09', '20.388726851851853'],\n",
       " ['2016-01-01 00:02:59', '0.9811458333333334'],\n",
       " ['2016-01-01 00:03:03', '7.048576388888889'],\n",
       " ['2016-01-01 00:03:03', '0.1400810185185185'],\n",
       " ['2016-01-01 00:03:29', '0.11086805555555555'],\n",
       " ['2016-01-01 00:04:06', '0.016967592592592593'],\n",
       " ['2016-01-01 00:04:37', '0.1597222222222222'],\n",
       " ['2016-01-01 00:04:56', '2.996585648148148']]"
      ]
     },
     "execution_count": 64,
     "metadata": {},
     "output_type": "execute_result"
    }
   ],
   "source": [
    "import datetime\n",
    "data_tuples = list()\n",
    "with open('sample_data.csv', 'r') as comp: #with says the function is valid only\n",
    "    for row in comp:                       #inside de block, we can not explicity\n",
    "        data_tuples.append(row.strip().split(',')) #close the file, for instance\n",
    "# strip to get rid(avoid) of any backlash ends or whatevermucky stuff\n",
    "#looking at the first rows\n",
    "data_tuples[:10]"
   ]
  },
  {
   "cell_type": "code",
   "execution_count": 84,
   "metadata": {},
   "outputs": [],
   "source": [
    "#Creating a function that return the data \n",
    "#in way we can compute the average processing time for each hour\n",
    "\n",
    "def get_data(filename):\n",
    "    compl_data = list() #Object to receive the data\n",
    "    with open(filename, 'r') as f: #open the file\n",
    "        for row in f: \n",
    "            compl_data.append(row.strip().split(','))\n",
    "            #each row of the file is added to the end of the list \n",
    "            #'strip' to ignore backlash ends\n",
    "            #'split' to split in the comma\n",
    "        import datetime as dt\n",
    "        for i in range(0,len(compl_data)): #'len' is the last row.\n",
    "            compl_data[i][0] = dt.datetime.strptime(compl_data[i][0], '%Y-%m-%d %H:%M:%S').hour\n",
    "            compl_data[i][1] = float(compl_data[i][1])\n",
    "        return compl_data    "
   ]
  },
  {
   "cell_type": "code",
   "execution_count": 81,
   "metadata": {
    "scrolled": true
   },
   "outputs": [
    {
     "data": {
      "text/plain": [
       "[[0, 0.0815162037037037],\n",
       " [0, 0.1334837962962963],\n",
       " [0, 20.388726851851853],\n",
       " [0, 0.9811458333333334],\n",
       " [0, 7.048576388888889],\n",
       " [0, 0.1400810185185185],\n",
       " [0, 0.11086805555555555],\n",
       " [0, 0.016967592592592593],\n",
       " [0, 0.1597222222222222],\n",
       " [0, 2.996585648148148],\n",
       " [0, 0.06299768518518518],\n",
       " [0, 0.059479166666666666],\n",
       " [0, 0.003460648148148148],\n",
       " [0, 0.22096064814814814],\n",
       " [0, 0.10398148148148148],\n",
       " [0, 0.2975231481481482],\n",
       " [0, 0.09293981481481481],\n",
       " [0, 0.016446759259259258],\n",
       " [0, 0.06824074074074074],\n",
       " [0, 0.04800925925925926],\n",
       " [0, 0.26761574074074074],\n",
       " [0, 1.4127662037037036],\n",
       " [0, 0.4363078703703704],\n",
       " [0, 0.869375],\n",
       " [0, 0.05337962962962963],\n",
       " [0, 0.6558333333333334],\n",
       " [0, 0.3119560185185185],\n",
       " [0, 3.580636574074074],\n",
       " [0, 0.1267939814814815],\n",
       " [0, 5.040613425925926],\n",
       " [0, 0.022662037037037036],\n",
       " [0, 0.31908564814814816],\n",
       " [0, 1.001412037037037],\n",
       " [0, 0.3957407407407407],\n",
       " [0, 0.01945601851851852],\n",
       " [0, 0.1460300925925926],\n",
       " [0, 0.6539351851851852],\n",
       " [0, 0.027731481481481482],\n",
       " [0, 0.12319444444444444],\n",
       " [0, 0.05623842592592593],\n",
       " [0, 0.31396990740740743],\n",
       " [0, 0.01125],\n",
       " [0, 0.31091435185185184],\n",
       " [0, 0.03392361111111111],\n",
       " [0, 0.35060185185185183],\n",
       " [0, 0.574375],\n",
       " [0, 0.02789351851851852],\n",
       " [0, 0.270625],\n",
       " [0, 0.013888888888888888],\n",
       " [0, 0.08671296296296296],\n",
       " [0, 0.34273148148148147],\n",
       " [0, 0.10928240740740741],\n",
       " [0, 0.3605902777777778],\n",
       " [0, 1.4861111111111112],\n",
       " [0, 0.02428240740740741],\n",
       " [0, 0.1840625],\n",
       " [0, 0.12356481481481481],\n",
       " [0, 0.12082175925925925],\n",
       " [0, 0.14607638888888888],\n",
       " [0, 0.6406481481481482],\n",
       " [0, 0.12211805555555555],\n",
       " [0, 0.02834490740740741],\n",
       " [0, 6.293506944444444],\n",
       " [0, 0.6482175925925926],\n",
       " [0, 0.07873842592592592],\n",
       " [0, 0.11435185185185186],\n",
       " [0, 0.6484606481481482],\n",
       " [0, 0.07287037037037038],\n",
       " [0, 3.375115740740741],\n",
       " [0, 0.045787037037037036],\n",
       " [0, 0.021006944444444446],\n",
       " [0, 0.02380787037037037],\n",
       " [0, 0.09158564814814815],\n",
       " [0, 0.053668981481481484],\n",
       " [0, 0.11513888888888889],\n",
       " [0, 0.01951388888888889],\n",
       " [0, 0.03994212962962963],\n",
       " [0, 0.11658564814814815],\n",
       " [0, 0.06086805555555556],\n",
       " [0, 0.0940162037037037],\n",
       " [0, 0.05965277777777778],\n",
       " [0, 0.08891203703703704],\n",
       " [0, 0.05778935185185185],\n",
       " [0, 0.00542824074074074],\n",
       " [0, 0.10305555555555555],\n",
       " [0, 0.26667824074074076],\n",
       " [0, 0.056435185185185185],\n",
       " [0, 0.2379050925925926],\n",
       " [0, 0.034722222222222224],\n",
       " [0, 0.11533564814814815],\n",
       " [0, 10.834027777777777],\n",
       " [0, 0.1352199074074074],\n",
       " [0, 3.5227199074074074],\n",
       " [0, 3.43125],\n",
       " [0, 0.09475694444444445],\n",
       " [0, 0.05552083333333333],\n",
       " [0, 0.03581018518518519],\n",
       " [0, 0.03158564814814815],\n",
       " [0, 0.05498842592592593],\n",
       " [0, 5.524895833333333],\n",
       " [0, 0.07480324074074074],\n",
       " [0, 1.3978356481481482],\n",
       " [0, 0.09047453703703703],\n",
       " [0, 0.04027777777777778],\n",
       " [0, 0.08449074074074074],\n",
       " [0, 0.04626157407407407],\n",
       " [0, 0.15074074074074073],\n",
       " [0, 0.07430555555555556],\n",
       " [0, 0.2509837962962963],\n",
       " [0, 0.18662037037037038],\n",
       " [0, 0.06695601851851851],\n",
       " [0, 0.10469907407407407],\n",
       " [0, 6.486203703703704],\n",
       " [0, 0.5620138888888889],\n",
       " [0, 0.6415046296296296],\n",
       " [0, 0.39327546296296295],\n",
       " [0, 0.2999537037037037],\n",
       " [0, 3.4520833333333334],\n",
       " [0, 0.2852199074074074],\n",
       " [0, 0.0724074074074074],\n",
       " [0, 0.033715277777777775],\n",
       " [0, 0.5611111111111111],\n",
       " [0, 0.02921296296296296],\n",
       " [0, 0.28434027777777776],\n",
       " [0, 0.05820601851851852],\n",
       " [0, 0.6398032407407407],\n",
       " [0, 0.0631712962962963],\n",
       " [0, 0.1084837962962963],\n",
       " [0, 0.2834259259259259],\n",
       " [0, 0.00866898148148148],\n",
       " [0, 0.12859953703703703],\n",
       " [0, 0.033483796296296296],\n",
       " [0, 0.05050925925925926],\n",
       " [0, 0.3253125],\n",
       " [0, 0.28261574074074075],\n",
       " [0, 0.11918981481481482],\n",
       " [0, 0.032060185185185185],\n",
       " [0, 0.0],\n",
       " [0, 0.08721064814814815],\n",
       " [0, 0.12758101851851852],\n",
       " [0, 2.9717939814814813],\n",
       " [0, 0.20175925925925925],\n",
       " [0, 0.2932060185185185],\n",
       " [0, 0.10611111111111111],\n",
       " [0, 0.10516203703703704],\n",
       " [0, 0.2697800925925926],\n",
       " [0, 0.13408564814814813],\n",
       " [0, 0.04069444444444444],\n",
       " [0, 0.09778935185185185],\n",
       " [0, 0.15186342592592592],\n",
       " [0, 0.09658564814814814],\n",
       " [0, 0.20041666666666666],\n",
       " [0, 0.1255324074074074],\n",
       " [0, 0.23927083333333332],\n",
       " [0, 0.2946412037037037],\n",
       " [0, 0.11641203703703704],\n",
       " [0, 0.2584375],\n",
       " [0, 0.08299768518518519],\n",
       " [0, 0.007997685185185186],\n",
       " [0, 0.0679513888888889],\n",
       " [0, 0.1264236111111111],\n",
       " [0, 0.020370370370370372],\n",
       " [0, 0.003275462962962963],\n",
       " [0, 0.12425925925925926],\n",
       " [0, 0.4534722222222222],\n",
       " [0, 0.02133101851851852],\n",
       " [0, 0.1449537037037037],\n",
       " [0, 0.03175925925925926],\n",
       " [0, 0.09855324074074075],\n",
       " [0, 0.06689814814814815],\n",
       " [0, 6.0151157407407405],\n",
       " [0, 0.29105324074074074],\n",
       " [0, 0.09331018518518519],\n",
       " [0, 0.18921296296296297],\n",
       " [0, 0.2907986111111111],\n",
       " [0, 0.018900462962962963],\n",
       " [0, 7.350219907407407],\n",
       " [0, 0.3190972222222222],\n",
       " [0, 0.1746875],\n",
       " [0, 0.0869212962962963],\n",
       " [0, 0.09215277777777778],\n",
       " [0, 0.07538194444444445],\n",
       " [0, 0.034965277777777776],\n",
       " [0, 0.269849537037037],\n",
       " [0, 0.1404513888888889],\n",
       " [0, 0.2877662037037037],\n",
       " [0, 0.6313541666666667],\n",
       " [0, 0.016006944444444445],\n",
       " [0, 5.4186805555555555],\n",
       " [0, 0.15917824074074075],\n",
       " [0, 0.3180324074074074],\n",
       " [0, 0.2349189814814815],\n",
       " [0, 0.19148148148148147],\n",
       " [0, 0.09983796296296296],\n",
       " [0, 0.07717592592592593],\n",
       " [0, 0.1524074074074074],\n",
       " [0, 0.38230324074074074],\n",
       " [0, 0.25211805555555555],\n",
       " [0, 0.014097222222222223],\n",
       " [0, 0.09979166666666667],\n",
       " [0, 0.09635416666666667],\n",
       " [0, 0.036238425925925924],\n",
       " [0, 0.0228125],\n",
       " [0, 0.12427083333333333],\n",
       " [0, 0.23729166666666668],\n",
       " [0, 0.6286226851851852],\n",
       " [0, 0.05758101851851852],\n",
       " [0, 0.23189814814814816],\n",
       " [0, 0.12540509259259258],\n",
       " [0, 0.45188657407407407],\n",
       " [0, 0.3801851851851852],\n",
       " [0, 0.21715277777777778],\n",
       " [0, 0.08715277777777777],\n",
       " [0, 0.2314351851851852],\n",
       " [0, 0.305],\n",
       " [0, 0.014872685185185185],\n",
       " [0, 0.5487268518518519],\n",
       " [0, 0.0346412037037037],\n",
       " [0, 4.587893518518518],\n",
       " [0, 0.011458333333333333],\n",
       " [0, 0.08106481481481481],\n",
       " [0, 0.30517361111111113],\n",
       " [0, 0.1631712962962963],\n",
       " [0, 0.11505787037037037],\n",
       " [0, 0.03980324074074074],\n",
       " [0, 0.09520833333333334],\n",
       " [0, 0.025706018518518517],\n",
       " [0, 0.17506944444444444],\n",
       " [0, 0.0876736111111111],\n",
       " [0, 0.26028935185185187],\n",
       " [0, 0.009733796296296296],\n",
       " [0, 0.02519675925925926],\n",
       " [0, 2.7027083333333333],\n",
       " [0, 2.7027083333333333],\n",
       " [0, 0.03243055555555555],\n",
       " [0, 2.642662037037037],\n",
       " [0, 0.3372453703703704],\n",
       " [0, 0.024074074074074074],\n",
       " [0, 0.04697916666666667],\n",
       " [0, 0.28702546296296294],\n",
       " [0, 0.11546296296296296],\n",
       " [1, 0.008645833333333333],\n",
       " [1, 0.0077314814814814815],\n",
       " [1, 0.12260416666666667],\n",
       " [1, 0.18751157407407407],\n",
       " [1, 0.05607638888888889],\n",
       " [1, 0.03173611111111111],\n",
       " [1, 0.21184027777777778],\n",
       " [1, 0.11371527777777778],\n",
       " [1, 0.014884259259259259],\n",
       " [1, 0.13283564814814816],\n",
       " [1, 2.639826388888889],\n",
       " [1, 0.07567129629629629],\n",
       " [1, 0.0068865740740740745],\n",
       " [1, 1.375949074074074],\n",
       " [1, 0.22591435185185185],\n",
       " [1, 0.01636574074074074],\n",
       " [1, 0.30422453703703706],\n",
       " [1, 0.23064814814814816],\n",
       " [1, 0.08771990740740741],\n",
       " [1, 0.08447916666666666],\n",
       " [1, 0.4452662037037037],\n",
       " [1, 0.045092592592592594],\n",
       " [1, 0.29788194444444444],\n",
       " [1, 0.12480324074074074],\n",
       " [1, 2.6976851851851853],\n",
       " [1, 6.007511574074074],\n",
       " [1, 0.310625],\n",
       " [1, 0.23364583333333333],\n",
       " [1, 0.21171296296296296],\n",
       " [1, 0.00400462962962963],\n",
       " [1, 0.1800462962962963],\n",
       " [1, 0.35811342592592593],\n",
       " [1, 0.026284722222222223],\n",
       " [1, 0.22322916666666667],\n",
       " [1, 0.02775462962962963],\n",
       " [1, 0.02834490740740741],\n",
       " [1, 0.051041666666666666],\n",
       " [1, 0.2560648148148148],\n",
       " [1, 0.07827546296296296],\n",
       " [1, 0.0030439814814814813],\n",
       " [1, 0.014375],\n",
       " [1, 0.18381944444444445],\n",
       " [1, 0.3706365740740741],\n",
       " [1, 0.020844907407407406],\n",
       " [1, 0.3703240740740741],\n",
       " [1, 0.07829861111111111],\n",
       " [1, 0.013275462962962963],\n",
       " [1, 0.11875],\n",
       " [1, 4.471018518518519],\n",
       " [1, 0.025798611111111112],\n",
       " [1, 0.9344560185185186],\n",
       " [1, 0.17678240740740742],\n",
       " [1, 0.01761574074074074],\n",
       " [1, 0.015752314814814816],\n",
       " [1, 0.25506944444444446],\n",
       " [1, 0.2693287037037037],\n",
       " [1, 0.2962268518518518],\n",
       " [1, 0.027314814814814816],\n",
       " [1, 0.03515046296296296],\n",
       " [1, 0.18133101851851852],\n",
       " [1, 0.04200231481481481],\n",
       " [1, 0.22340277777777778],\n",
       " [1, 0.06408564814814814],\n",
       " [1, 0.03925925925925926],\n",
       " [1, 0.023668981481481482],\n",
       " [1, 2.6313310185185186],\n",
       " [1, 0.22269675925925925],\n",
       " [1, 0.020520833333333332],\n",
       " [1, 0.2338425925925926],\n",
       " [1, 0.17561342592592594],\n",
       " [1, 0.10863425925925926],\n",
       " [1, 0.038622685185185184],\n",
       " [1, 5.537476851851852],\n",
       " [1, 5.537465277777778],\n",
       " [1, 5.537442129629629],\n",
       " [1, 5.537430555555556],\n",
       " [1, 0.05315972222222222],\n",
       " [1, 0.034074074074074076],\n",
       " [1, 0.5500578703703703],\n",
       " [1, 5.536701388888889],\n",
       " [1, 0.022881944444444444],\n",
       " [1, 5.536655092592593],\n",
       " [1, 5.53662037037037],\n",
       " [1, 5.536574074074074],\n",
       " [1, 0.06733796296296296],\n",
       " [1, 0.1794675925925926],\n",
       " [1, 0.023275462962962963],\n",
       " [1, 0.0346412037037037],\n",
       " [1, 0.37047453703703703],\n",
       " [1, 0.022268518518518517],\n",
       " [1, 3.4188541666666667],\n",
       " [1, 5.535844907407407],\n",
       " [1, 5.535821759259259],\n",
       " [1, 5.535821759259259],\n",
       " [1, 5.535798611111111],\n",
       " [1, 5.535775462962963],\n",
       " [1, 5.535775462962963],\n",
       " [1, 5.53574074074074],\n",
       " [1, 5.535717592592593],\n",
       " [1, 5.535694444444444],\n",
       " [1, 5.535659722222222],\n",
       " [1, 5.535648148148148],\n",
       " [1, 0.10561342592592593],\n",
       " [1, 0.009270833333333334],\n",
       " [1, 1.4357407407407408],\n",
       " [1, 0.11370370370370371],\n",
       " [1, 0.04259259259259259],\n",
       " [1, 0.26501157407407405],\n",
       " [1, 0.2896412037037037],\n",
       " [1, 0.5327314814814815],\n",
       " [1, 0.05893518518518519],\n",
       " [1, 0.10252314814814815],\n",
       " [1, 5.534907407407408],\n",
       " [1, 5.534895833333334],\n",
       " [1, 5.534872685185185],\n",
       " [1, 5.534849537037037],\n",
       " [1, 5.534826388888889],\n",
       " [1, 5.53480324074074],\n",
       " [1, 5.534780092592593],\n",
       " [1, 0.009270833333333334],\n",
       " [1, 0.020856481481481483],\n",
       " [1, 0.01912037037037037],\n",
       " [1, 0.3539699074074074],\n",
       " [1, 5.534050925925926],\n",
       " [1, 5.534027777777778],\n",
       " [1, 5.228356481481481],\n",
       " [1, 5.228356481481481],\n",
       " [1, 5.228356481481481],\n",
       " [1, 0.10972222222222222],\n",
       " [1, 1.4444444444444444],\n",
       " [1, 0.2724421296296296],\n",
       " [1, 0.17671296296296296],\n",
       " [1, 3.5166666666666666],\n",
       " [1, 0.019305555555555555],\n",
       " [1, 0.27336805555555554],\n",
       " [1, 0.00912037037037037],\n",
       " [1, 0.07657407407407407],\n",
       " [1, 0.5217939814814815],\n",
       " [1, 0.28738425925925926],\n",
       " [1, 0.04532407407407407],\n",
       " [1, 0.17570601851851853],\n",
       " [1, 0.1904398148148148],\n",
       " [1, 0.018113425925925925],\n",
       " [1, 0.06284722222222222],\n",
       " [1, 0.0061574074074074074],\n",
       " [1, 0.09725694444444444],\n",
       " [1, 0.06871527777777778],\n",
       " [1, 0.3154282407407407],\n",
       " [1, 0.01758101851851852],\n",
       " [1, 0.0840625],\n",
       " [1, 0.24689814814814814],\n",
       " [1, 1.4416666666666667],\n",
       " [1, 0.612037037037037],\n",
       " [1, 0.11572916666666666],\n",
       " [1, 0.03630787037037037],\n",
       " [1, 0.055081018518518515],\n",
       " [1, 0.03252314814814815],\n",
       " [1, 0.04465277777777778],\n",
       " [1, 0.5423842592592593],\n",
       " [1, 0.2625462962962963],\n",
       " [1, 0.002800925925925926],\n",
       " [1, 0.17319444444444446],\n",
       " [1, 48.419375],\n",
       " [1, 5.223310185185185],\n",
       " [1, 0.21864583333333334],\n",
       " [1, 0.2831828703703704],\n",
       " [1, 0.22372685185185184],\n",
       " [1, 0.28791666666666665],\n",
       " [1, 0.1509375],\n",
       " [1, 0.034861111111111114],\n",
       " [1, 0.2829513888888889],\n",
       " [1, 0.2595486111111111],\n",
       " [1, 0.022048611111111113],\n",
       " [1, 0.0591087962962963],\n",
       " [1, 0.22239583333333332],\n",
       " [1, 0.02267361111111111],\n",
       " [1, 0.2417476851851852],\n",
       " [1, 0.05712962962962963],\n",
       " [1, 0.01318287037037037],\n",
       " [1, 1.1759953703703703],\n",
       " [1, 0.14092592592592593],\n",
       " [1, 0.05917824074074074],\n",
       " [1, 0.024305555555555556],\n",
       " [1, 0.1688888888888889],\n",
       " [1, 0.33587962962962964],\n",
       " [1, 0.08981481481481482],\n",
       " [1, 0.28149305555555554],\n",
       " [1, 68.60969907407407],\n",
       " [1, 0.012037037037037037],\n",
       " [1, 0.16962962962962963],\n",
       " [1, 0.2154976851851852],\n",
       " [1, 5.378715277777777],\n",
       " [1, 1.4196180555555555],\n",
       " [1, 0.02837962962962963],\n",
       " [1, 0.28050925925925924],\n",
       " [1, 0.6023032407407407],\n",
       " [1, 0.2788541666666667],\n",
       " [1, 3.591666666666667],\n",
       " [1, 0.010960648148148148],\n",
       " [1, 0.11039351851851852],\n",
       " [1, 0.19077546296296297],\n",
       " [1, 59.326909722222226],\n",
       " [1, 0.1321875],\n",
       " [1, 0.04549768518518518],\n",
       " [1, 0.05421296296296296],\n",
       " [1, 0.13712962962962963],\n",
       " [1, 0.13784722222222223],\n",
       " [1, 0.20434027777777777],\n",
       " [1, 0.013888888888888888],\n",
       " [1, 0.19517361111111112],\n",
       " [1, 0.010416666666666666],\n",
       " [1, 68.60802083333333],\n",
       " [1, 2.6177199074074076],\n",
       " [1, 0.17012731481481483],\n",
       " [1, 0.6046064814814814],\n",
       " [1, 0.21744212962962964],\n",
       " [1, 55.524537037037035],\n",
       " [1, 0.24275462962962963],\n",
       " [1, 3.9792708333333335],\n",
       " [1, 0.0],\n",
       " [1, 0.3404513888888889],\n",
       " [1, 0.23671296296296296],\n",
       " [1, 0.008784722222222222],\n",
       " [1, 0.16887731481481483],\n",
       " [1, 0.2390625],\n",
       " [1, 0.2413773148148148],\n",
       " [1, 0.04982638888888889],\n",
       " [1, 2.615787037037037],\n",
       " [1, 0.04414351851851852],\n",
       " [1, 87.51457175925925],\n",
       " [1, 18.35710648148148],\n",
       " [1, 18.35710648148148],\n",
       " [1, 5.366898148148148],\n",
       " [1, 0.25416666666666665],\n",
       " [1, 0.013703703703703704],\n",
       " [1, 0.0580787037037037],\n",
       " [1, 0.4797106481481481],\n",
       " [1, 0.27587962962962964],\n",
       " [1, 0.24028935185185185],\n",
       " [1, 0.25341435185185185],\n",
       " [1, 0.09081018518518519],\n",
       " [1, 0.2736689814814815],\n",
       " [1, 0.00949074074074074],\n",
       " [1, 0.27578703703703705],\n",
       " [1, 0.12849537037037037],\n",
       " [1, 0.0],\n",
       " [1, 0.08425925925925926],\n",
       " [1, 0.23917824074074073],\n",
       " [1, 0.010046296296296296],\n",
       " [1, 0.20065972222222223],\n",
       " [1, 0.352962962962963],\n",
       " [1, 1.4291666666666667],\n",
       " [1, 0.12827546296296297],\n",
       " [1, 0.1699074074074074],\n",
       " [1, 0.07219907407407407],\n",
       " [1, 0.10920138888888889],\n",
       " [1, 0.5851041666666666],\n",
       " [1, 0.2374074074074074],\n",
       " [1, 0.5068287037037037],\n",
       " [1, 2.976747685185185],\n",
       " [1, 0.008414351851851852],\n",
       " [1, 0.20884259259259258],\n",
       " [1, 0.2507638888888889],\n",
       " [1, 0.35739583333333336],\n",
       " [1, 0.36605324074074075],\n",
       " [1, 68.60498842592592],\n",
       " [1, 0.2361574074074074],\n",
       " [1, 6.430983796296296],\n",
       " [1, 55.39054398148148],\n",
       " [1, 0.006701388888888889],\n",
       " [1, 0.05575231481481482],\n",
       " [1, 0.12337962962962963],\n",
       " [1, 0.23501157407407408],\n",
       " [1, 0.05053240740740741],\n",
       " [1, 0.06914351851851852],\n",
       " [1, 0.20688657407407407],\n",
       " [1, 0.08793981481481482],\n",
       " [1, 0.01601851851851852],\n",
       " [1, 69.51873842592593],\n",
       " [1, 0.05730324074074074],\n",
       " [1, 0.0500462962962963],\n",
       " [1, 0.005775462962962963],\n",
       " [1, 0.23381944444444444],\n",
       " [1, 0.09854166666666667],\n",
       " [1, 19.496631944444445],\n",
       " [1, 2.6100810185185184],\n",
       " [1, 0.20274305555555555],\n",
       " [1, 0.2199074074074074],\n",
       " [1, 0.043912037037037034],\n",
       " [1, 0.12083333333333333],\n",
       " [1, 0.007268518518518519],\n",
       " [1, 0.0772800925925926],\n",
       " [1, 0.5264930555555556],\n",
       " [1, 0.05466435185185185],\n",
       " [1, 0.027511574074074074],\n",
       " [1, 0.1946875],\n",
       " [1, 0.08146990740740741],\n",
       " [1, 0.04524305555555556],\n",
       " [1, 0.245625],\n",
       " [1, 0.01556712962962963],\n",
       " [1, 0.28630787037037037],\n",
       " [1, 0.23092592592592592],\n",
       " [1, 0.2270949074074074],\n",
       " [1, 0.01724537037037037],\n",
       " [1, 0.5781828703703704],\n",
       " [1, 69.5161574074074],\n",
       " [1, 0.014166666666666666],\n",
       " [1, 0.05350694444444445],\n",
       " [1, 0.5081712962962963],\n",
       " [1, 0.20099537037037038],\n",
       " [1, 0.24232638888888888],\n",
       " [1, 0.01888888888888889],\n",
       " [1, 0.185],\n",
       " [1, 0.1332523148148148],\n",
       " [1, 0.053287037037037036],\n",
       " [1, 0.22686342592592593],\n",
       " [1, 0.05959490740740741],\n",
       " [1, 0.12964120370370372],\n",
       " [1, 0.2416087962962963],\n",
       " [1, 0.06989583333333334],\n",
       " [1, 0.05552083333333333],\n",
       " [1, 0.03076388888888889],\n",
       " [1, 2.605324074074074],\n",
       " [1, 0.153125],\n",
       " [1, 0.011400462962962963],\n",
       " [1, 0.541724537037037],\n",
       " [1, 0.40875],\n",
       " [1, 0.13319444444444445],\n",
       " [1, 0.07288194444444444],\n",
       " [1, 0.07697916666666667],\n",
       " [1, 0.2630439814814815],\n",
       " [1, 2.6604976851851854],\n",
       " [1, 5.633043981481482],\n",
       " [1, 0.026469907407407407],\n",
       " [1, 0.0528125],\n",
       " [1, 0.07224537037037038],\n",
       " [1, 0.23971064814814816],\n",
       " [1, 0.26255787037037037],\n",
       " [1, 0.009282407407407408],\n",
       " [1, 0.07688657407407408],\n",
       " [2, 0.040844907407407406],\n",
       " [2, 0.06746527777777778],\n",
       " [2, 1.3357407407407407],\n",
       " [2, 0.13982638888888888],\n",
       " [2, 0.11550925925925926],\n",
       " [2, 0.2205787037037037],\n",
       " [2, 4.6722222222222225],\n",
       " [2, 0.1709375],\n",
       " [2, 0.22224537037037037],\n",
       " [2, 0.07493055555555556],\n",
       " [2, 0.1526736111111111],\n",
       " [2, 0.189375],\n",
       " [2, 0.06673611111111111],\n",
       " [2, 0.19559027777777777],\n",
       " [2, 0.02199074074074074],\n",
       " [2, 0.07450231481481481],\n",
       " [2, 0.2349074074074074],\n",
       " [2, 0.25805555555555554],\n",
       " [2, 2.597627314814815],\n",
       " [2, 0.21976851851851853],\n",
       " [2, 0.315],\n",
       " [2, 0.14849537037037036],\n",
       " [2, 0.256400462962963],\n",
       " [2, 0.008067129629629629],\n",
       " [2, 0.018935185185185187],\n",
       " [2, 0.026863425925925926],\n",
       " [2, 68.5777662037037],\n",
       " [2, 0.4469675925925926],\n",
       " [2, 0.1953125],\n",
       " [2, 0.0344212962962963],\n",
       " [2, 0.1578125],\n",
       " [2, 0.024479166666666666],\n",
       " [2, 0.029872685185185186],\n",
       " [2, 0.48746527777777776],\n",
       " [2, 2.5935185185185183],\n",
       " [2, 0.2303587962962963],\n",
       " [2, 0.5789583333333334],\n",
       " [2, 0.1869212962962963],\n",
       " [2, 0.04925925925925926],\n",
       " [2, 0.041875],\n",
       " [2, 0.22902777777777777],\n",
       " [2, 0.00798611111111111],\n",
       " [2, 2.5917013888888887],\n",
       " [2, 0.2279050925925926],\n",
       " [2, 0.13148148148148148],\n",
       " [2, 0.021076388888888888],\n",
       " [2, 0.2508680555555556],\n",
       " [2, 0.01861111111111111],\n",
       " [2, 0.007916666666666667],\n",
       " [2, 0.03347222222222222],\n",
       " [2, 0.05818287037037037],\n",
       " [2, 0.18171296296296297],\n",
       " [2, 0.034826388888888886],\n",
       " [2, 0.006342592592592592],\n",
       " [2, 56.30033564814815],\n",
       " [2, 0.22483796296296296],\n",
       " [2, 2.588599537037037],\n",
       " [2, 0.39241898148148147],\n",
       " [2, 0.0006365740740740741],\n",
       " [2, 0.048587962962962965],\n",
       " [2, 0.25078703703703703],\n",
       " [2, 0.015497685185185186],\n",
       " [2, 0.05288194444444445],\n",
       " [2, 0.02638888888888889],\n",
       " [2, 0.02767361111111111],\n",
       " [2, 1.4006944444444445],\n",
       " [2, 0.07605324074074074],\n",
       " [2, 0.48113425925925923],\n",
       " [2, 0.1323263888888889],\n",
       " [2, 0.1715509259259259],\n",
       " [2, 3.948449074074074],\n",
       " [2, 0.24959490740740742],\n",
       " [2, 0.03888888888888889],\n",
       " [2, 0.10967592592592593],\n",
       " [2, 0.003599537037037037],\n",
       " [2, 0.03203703703703704],\n",
       " [2, 0.04618055555555556],\n",
       " [2, 0.10894675925925926],\n",
       " [2, 0.337349537037037],\n",
       " [2, 0.1331712962962963],\n",
       " [2, 0.05987268518518519],\n",
       " [2, 0.1403125],\n",
       " [2, 0.023599537037037037],\n",
       " [2, 0.21996527777777777],\n",
       " [2, 0.000462962962962963],\n",
       " [2, 0.05137731481481481],\n",
       " [2, 0.4229513888888889],\n",
       " [2, 0.03246527777777778],\n",
       " [2, 0.27546296296296297],\n",
       " [2, 0.1003125],\n",
       " [2, 11.89730324074074],\n",
       " [2, 0.06104166666666667],\n",
       " [2, 0.03179398148148148],\n",
       " [2, 0.18252314814814816],\n",
       " [2, 0.005162037037037037],\n",
       " [2, 0.272349537037037],\n",
       " [2, 0.07179398148148149],\n",
       " [2, 0.21876157407407407],\n",
       " [2, 0.17947916666666666],\n",
       " [2, 9.328113425925926],\n",
       " [2, 0.24217592592592593],\n",
       " [2, 0.005798611111111111],\n",
       " [2, 0.04949074074074074],\n",
       " [2, 0.04417824074074074],\n",
       " [2, 0.13555555555555557],\n",
       " [2, 0.178125],\n",
       " [2, 0.2440162037037037],\n",
       " [2, 0.13820601851851852],\n",
       " [2, 0.03082175925925926],\n",
       " [2, 68.56353009259259],\n",
       " [2, 0.16494212962962962],\n",
       " [2, 0.010300925925925925],\n",
       " [2, 2.5793981481481483],\n",
       " [2, 0.0],\n",
       " [2, 0.17315972222222223],\n",
       " [2, 0.17842592592592593],\n",
       " [2, 0.029166666666666667],\n",
       " [2, 0.5637615740740741],\n",
       " [2, 0.12914351851851852],\n",
       " [2, 0.21519675925925927],\n",
       " [2, 0.049965277777777775],\n",
       " [2, 0.21460648148148148],\n",
       " [2, 0.06515046296296297],\n",
       " [2, 0.32969907407407406],\n",
       " [2, 90.46327546296297],\n",
       " [2, 0.046377314814814816],\n",
       " [2, 83.35862268518518],\n",
       " [2, 0.04832175925925926],\n",
       " [2, 0.21306712962962962],\n",
       " [2, 0.1736574074074074],\n",
       " [2, 0.03690972222222222],\n",
       " [2, 0.29516203703703703],\n",
       " [2, 0.10208333333333333],\n",
       " [2, 0.005],\n",
       " [2, 0.005636574074074074],\n",
       " [2, 0.05449074074074074],\n",
       " [2, 0.030162037037037036],\n",
       " [2, 0.0003587962962962963],\n",
       " [2, 0.04351851851851852],\n",
       " [2, 0.04170138888888889],\n",
       " [2, 0.10864583333333333],\n",
       " [2, 0.4752777777777778],\n",
       " [2, 0.1594675925925926],\n",
       " [2, 0.01994212962962963],\n",
       " [2, 0.0024421296296296296],\n",
       " [2, 2.9336574074074075],\n",
       " [2, 0.4890625],\n",
       " [2, 3.9358217592592593],\n",
       " [2, 0.5301967592592592],\n",
       " [2, 0.1557060185185185],\n",
       " [2, 0.019976851851851853],\n",
       " [2, 0.23145833333333332],\n",
       " [2, 0.09592592592592593],\n",
       " [2, 0.030960648148148147],\n",
       " [2, 0.2517013888888889],\n",
       " [2, 0.019328703703703702],\n",
       " [2, 0.19344907407407408],\n",
       " [2, 0.02290509259259259],\n",
       " [2, 0.1096412037037037],\n",
       " [2, 0.017824074074074076],\n",
       " [2, 0.039074074074074074],\n",
       " [2, 0.09384259259259259],\n",
       " [2, 0.915162037037037],\n",
       " [2, 0.017118055555555556],\n",
       " [2, 0.004212962962962963],\n",
       " [2, 0.04236111111111111],\n",
       " [2, 0.19934027777777777],\n",
       " [2, 0.16777777777777778],\n",
       " [2, 0.06722222222222222],\n",
       " [2, 0.08005787037037038],\n",
       " [2, 0.15319444444444444],\n",
       " [2, 0.12376157407407408],\n",
       " [2, 0.09378472222222223],\n",
       " [2, 0.014814814814814815],\n",
       " [2, 2.5686574074074073],\n",
       " [2, 4.2909143518518515],\n",
       " [2, 0.04356481481481481],\n",
       " [2, 0.16028935185185186],\n",
       " [2, 0.043912037037037034],\n",
       " [2, 0.3265972222222222],\n",
       " [2, 0.042604166666666665],\n",
       " [2, 1.9290162037037037],\n",
       " [2, 5.791631944444444],\n",
       " [2, 0.17292824074074073],\n",
       " [2, 0.08665509259259259],\n",
       " [2, 0.11993055555555555],\n",
       " [2, 0.5507175925925926],\n",
       " [2, 0.04667824074074074],\n",
       " [2, 0.19934027777777777],\n",
       " [2, 0.3232523148148148],\n",
       " [2, 0.14752314814814815],\n",
       " [2, 0.07835648148148149],\n",
       " [2, 0.1343287037037037],\n",
       " [2, 0.045162037037037035],\n",
       " [2, 0.19300925925925927],\n",
       " [2, 0.030555555555555555],\n",
       " [2, 0.2044675925925926],\n",
       " [2, 0.081875],\n",
       " [2, 5.923090277777778],\n",
       " [3, 0.4115740740740741],\n",
       " [3, 0.19508101851851853],\n",
       " [3, 0.021423611111111112],\n",
       " [3, 0.022256944444444444],\n",
       " [3, 0.038148148148148146],\n",
       " [3, 0.15813657407407408],\n",
       " [3, 0.1953587962962963],\n",
       " [3, 0.3164814814814815],\n",
       " [3, 0.020787037037037038],\n",
       " [3, 0.16685185185185186],\n",
       " [3, 3.289363425925926],\n",
       " [3, 0.19486111111111112],\n",
       " [3, 0.0850925925925926],\n",
       " [3, 1.5627199074074074],\n",
       " [3, 0.015069444444444444],\n",
       " [3, 0.10355324074074074],\n",
       " [3, 0.21893518518518518],\n",
       " [3, 0.23576388888888888],\n",
       " [3, 0.19381944444444443],\n",
       " [3, 0.04064814814814815],\n",
       " [3, 0.02644675925925926],\n",
       " [3, 0.19199074074074074],\n",
       " [3, 0.4515972222222222],\n",
       " [3, 0.23798611111111112],\n",
       " [3, 0.09693287037037036],\n",
       " [3, 68.54539351851852],\n",
       " [3, 0.14238425925925927],\n",
       " [3, 0.191875],\n",
       " [3, 0.18648148148148147],\n",
       " [3, 3.5190972222222223],\n",
       " [3, 0.065],\n",
       " [3, 0.06717592592592593],\n",
       " [3, 0.18997685185185184],\n",
       " [3, 0.18487268518518518],\n",
       " [3, 0.032407407407407406],\n",
       " [3, 68.53947916666667],\n",
       " [3, 0.2146412037037037],\n",
       " [3, 0.08688657407407407],\n",
       " [3, 0.4902546296296296],\n",
       " [3, 0.18890046296296295],\n",
       " [3, 0.09189814814814815],\n",
       " [3, 0.08917824074074074],\n",
       " [3, 0.21355324074074075],\n",
       " [3, 4.911493055555556],\n",
       " [3, 0.18871527777777777],\n",
       " [3, 1.2863078703703703],\n",
       " [3, 0.0493287037037037],\n",
       " [3, 0.29834490740740743],\n",
       " [3, 83.26734953703703],\n",
       " [3, 3.7636458333333334],\n",
       " [3, 28.290983796296295],\n",
       " [3, 0.016805555555555556],\n",
       " [3, 4.407268518518518],\n",
       " [3, 4.407268518518518],\n",
       " [3, 0.17002314814814815],\n",
       " [3, 0.19349537037037037],\n",
       " [3, 4.911747685185185],\n",
       " [3, 0.0115625],\n",
       " [3, 0.09986111111111111],\n",
       " [3, 0.011458333333333333],\n",
       " [3, 0.040462962962962964],\n",
       " [3, 0.10170138888888888],\n",
       " [3, 0.01826388888888889],\n",
       " [3, 0.05810185185185185],\n",
       " [3, 0.38733796296296297],\n",
       " [3, 0.14243055555555556],\n",
       " [3, 0.013935185185185186],\n",
       " [3, 0.013090277777777777],\n",
       " [3, 0.09791666666666667],\n",
       " [3, 0.022152777777777778],\n",
       " [3, 57.31135416666667],\n",
       " [3, 0.10548611111111111],\n",
       " [3, 0.09739583333333333],\n",
       " [3, 0.4426851851851852],\n",
       " [3, 0.06356481481481481],\n",
       " [3, 0.10217592592592592],\n",
       " [3, 0.5173958333333334],\n",
       " [3, 0.5347800925925926],\n",
       " [3, 0.0972800925925926],\n",
       " [3, 0.029953703703703705],\n",
       " [3, 0.13613425925925926],\n",
       " [3, 3.2930555555555556],\n",
       " [3, 0.3790277777777778],\n",
       " [3, 0.2256712962962963],\n",
       " [3, 0.14954861111111112],\n",
       " [3, 0.11707175925925926],\n",
       " [3, 0.009537037037037037],\n",
       " [3, 0.30520833333333336],\n",
       " [3, 0.051724537037037034],\n",
       " [3, 5.7640625],\n",
       " [3, 0.2345949074074074],\n",
       " [3, 0.035798611111111114],\n",
       " [3, 0.17487268518518517],\n",
       " [3, 0.5326620370370371],\n",
       " [3, 0.1803935185185185],\n",
       " [3, 0.10387731481481481],\n",
       " [3, 0.03888888888888889],\n",
       " [3, 0.31090277777777775],\n",
       " [3, 0.11872685185185185],\n",
       " [3, 0.05216435185185185],\n",
       " [3, 0.16802083333333334],\n",
       " [3, 88.5587037037037],\n",
       " [3, 0.008541666666666666],\n",
       " [3, 0.30452546296296296],\n",
       " [3, 0.01778935185185185],\n",
       " [3, 0.0909375],\n",
       " [3, 0.17425925925925925],\n",
       " [3, 1.3569444444444445],\n",
       " [3, 0.16260416666666666],\n",
       " [3, 0.004976851851851852],\n",
       " [3, 0.17282407407407407],\n",
       " [3, 0.09824074074074074],\n",
       " [3, 0.17230324074074074],\n",
       " [3, 0.05068287037037037],\n",
       " [3, 0.20575231481481482],\n",
       " [3, 0.005162037037037037],\n",
       " [3, 0.5309837962962963],\n",
       " [3, 4.90457175925926],\n",
       " [3, 0.3034837962962963],\n",
       " [3, 0.08675925925925926],\n",
       " [3, 0.44212962962962965],\n",
       " [3, 0.22008101851851852],\n",
       " [3, 0.12730324074074073],\n",
       " [3, 0.051666666666666666],\n",
       " [3, 0.17710648148148148],\n",
       " [3, 0.18334490740740741],\n",
       " [3, 3.414953703703704],\n",
       " [3, 0.12621527777777777],\n",
       " [3, 0.03625],\n",
       " [3, 0.07423611111111111],\n",
       " [3, 94.3489236111111],\n",
       " [3, 0.020694444444444446],\n",
       " [3, 0.1752314814814815],\n",
       " [3, 0.19953703703703704],\n",
       " [3, 0.3020601851851852],\n",
       " [3, 0.1990625],\n",
       " [3, 0.03491898148148148],\n",
       " [3, 0.43287037037037035],\n",
       " [3, 0.09111111111111111],\n",
       " [3, 0.17239583333333333],\n",
       " [3, 0.01193287037037037],\n",
       " [3, 0.08747685185185185],\n",
       " [3, 0.0840625],\n",
       " [3, 0.2545601851851852],\n",
       " [3, 0.3341550925925926],\n",
       " [3, 0.04456018518518518],\n",
       " [3, 55.32193287037037],\n",
       " [3, 0.07489583333333333],\n",
       " [3, 0.13519675925925925],\n",
       " [3, 0.19605324074074074],\n",
       " [3, 0.021956018518518517],\n",
       " [3, 0.01292824074074074],\n",
       " [3, 0.01380787037037037],\n",
       " [3, 1.7757175925925925],\n",
       " [3, 0.018738425925925926],\n",
       " [3, 0.15986111111111112],\n",
       " [3, 0.08038194444444445],\n",
       " [3, 0.2525],\n",
       " [3, 0.12413194444444445],\n",
       " [3, 0.06079861111111111],\n",
       " [3, 0.16921296296296295],\n",
       " [3, 2.5355902777777777],\n",
       " [3, 0.011261574074074075],\n",
       " [3, 19.434444444444445],\n",
       " [3, 0.027962962962962964],\n",
       " [3, 0.3652546296296296],\n",
       " [3, 0.0334375],\n",
       " [3, 0.12555555555555556],\n",
       " [3, 0.10034722222222223],\n",
       " [3, 0.07094907407407407],\n",
       " [3, 0.07390046296296296],\n",
       " [3, 4.387118055555556],\n",
       " [3, 0.5190625],\n",
       " [3, 0.06814814814814815],\n",
       " [3, 0.5234027777777778],\n",
       " [3, 0.16574074074074074],\n",
       " [3, 0.007326388888888889],\n",
       " [3, 0.1489699074074074],\n",
       " [3, 0.1645949074074074],\n",
       " [3, 0.17087962962962963],\n",
       " [3, 0.06935185185185185],\n",
       " [3, 0.29847222222222225],\n",
       " [3, 0.06680555555555556],\n",
       " [3, 0.21975694444444444],\n",
       " [3, 0.16280092592592593],\n",
       " [3, 0.12641203703703704],\n",
       " [3, 0.009780092592592592],\n",
       " [3, 0.01810185185185185],\n",
       " [3, 4.88880787037037],\n",
       " [3, 2.528287037037037],\n",
       " [3, 0.16157407407407406],\n",
       " [3, 0.005300925925925926],\n",
       " [3, 0.11314814814814815],\n",
       " [3, 2.5281712962962963],\n",
       " [3, 0.1870601851851852],\n",
       " [3, 5.122685185185185],\n",
       " [3, 0.16045138888888888],\n",
       " [3, 0.004027777777777778],\n",
       " [3, 0.03005787037037037],\n",
       " [3, 0.029814814814814815],\n",
       " [3, 0.0840625],\n",
       " [3, 0.1602199074074074],\n",
       " [3, 6.23199074074074],\n",
       " [3, 0.4184953703703704],\n",
       " [3, 0.032789351851851854],\n",
       " [3, 0.07689814814814815],\n",
       " [3, 0.060856481481481484],\n",
       " [3, 0.18447916666666667],\n",
       " [3, 0.06355324074074074],\n",
       " [3, 5.11962962962963],\n",
       " [3, 0.04383101851851852],\n",
       " [3, 0.0032523148148148147],\n",
       " [3, 4.377465277777778],\n",
       " [3, 0.24363425925925927],\n",
       " [3, 0.2849305555555556],\n",
       " [3, 0.05835648148148148],\n",
       " [3, 0.15751157407407407],\n",
       " [3, 0.03068287037037037],\n",
       " [3, 0.10040509259259259],\n",
       " [3, 0.05800925925925926],\n",
       " ...]"
      ]
     },
     "execution_count": 81,
     "metadata": {},
     "output_type": "execute_result"
    }
   ],
   "source": [
    "get_data('sample_data.csv')"
   ]
  },
  {
   "cell_type": "code",
   "execution_count": null,
   "metadata": {},
   "outputs": [],
   "source": [
    "# Lecturer solution\n",
    "\n",
    "#def get_data(filename):\n",
    "    data_tuples = list()\n",
    "    with open(filename,'r') as f:\n",
    "        for line in f:\n",
    "            data_tuples.append(line.strip().split(','))\n",
    "    import datetime\n",
    "    format_str = \"%Y-%m-%d %H:%M:%S\"\n",
    "    data_tuples = [(datetime.datetime.strptime(x[0],format_str).hour,float(x[1])) for x in data_tuples]\n",
    "    #compact way\n",
    "    return data_tuples "
   ]
  },
  {
   "cell_type": "code",
   "execution_count": 74,
   "metadata": {},
   "outputs": [],
   "source": [
    "# Lecturer solution\n",
    "buckets = dict()\n",
    "for item in get_data('sample_data.csv'): #item is a pair such as [0, 0.1334837962962963]\n",
    "    if item[0] in buckets: #item[0] is the hour\n",
    "        buckets[item[0]][0] += 1 #important item[0] is iqual to the row number. It is a counter\n",
    "        buckets[item[0]][1] += item[1] #sum of the processing times\n",
    "    else:\n",
    "        buckets[item[0]] = [1,item[1]] #first event "
   ]
  },
  {
   "cell_type": "code",
   "execution_count": 76,
   "metadata": {
    "scrolled": true
   },
   "outputs": [
    {
     "data": {
      "text/plain": [
       "{0: [241, 158.34932870370375],\n",
       " 1: [340, 1006.8582291666668],\n",
       " 2: [199, 464.6581249999997],\n",
       " 3: [221, 681.5493865740739],\n",
       " 4: [157, 732.1197337962964],\n",
       " 5: [112, 285.60615740740764],\n",
       " 6: [80, 427.54798611111124],\n",
       " 7: [71, 183.4966435185184],\n",
       " 8: [99, 601.1727546296297],\n",
       " 9: [132, 1130.5627199074067],\n",
       " 10: [137, 1735.9673726851845],\n",
       " 11: [182, 1074.1009490740735],\n",
       " 12: [168, 2295.5562731481473],\n",
       " 13: [195, 1675.7310300925922],\n",
       " 14: [185, 1498.5249999999999],\n",
       " 15: [193, 2465.890451388889],\n",
       " 16: [204, 2232.515092592593],\n",
       " 17: [211, 1399.851180555556],\n",
       " 18: [182, 1333.1421180555558],\n",
       " 19: [165, 1501.3013541666667],\n",
       " 20: [158, 821.5105439814813],\n",
       " 21: [161, 763.653865740741],\n",
       " 22: [218, 1841.9319444444443],\n",
       " 23: [210, 1088.8371064814814]}"
      ]
     },
     "execution_count": 76,
     "metadata": {},
     "output_type": "execute_result"
    }
   ],
   "source": [
    "buckets"
   ]
  },
  {
   "cell_type": "code",
   "execution_count": 86,
   "metadata": {},
   "outputs": [
    {
     "data": {
      "text/plain": [
       "0"
      ]
     },
     "execution_count": 86,
     "metadata": {},
     "output_type": "execute_result"
    }
   ],
   "source": [
    "x = get_data('sample_data.csv')\n",
    "x[1][0]"
   ]
  },
  {
   "cell_type": "markdown",
   "metadata": {},
   "source": [
    "## Quiz 2.3"
   ]
  },
  {
   "cell_type": "code",
   "execution_count": 88,
   "metadata": {},
   "outputs": [
    {
     "name": "stdout",
     "output_type": "stream",
     "text": [
      "12:07:20.445112 0:00:05\n"
     ]
    }
   ],
   "source": [
    "import datetime as datetime\n",
    "t1 = datetime.datetime.now().time()\n",
    "t2 =  datetime.timedelta(seconds=5)\n",
    "print(t1, t2)"
   ]
  }
 ],
 "metadata": {
  "kernelspec": {
   "display_name": "Python 3",
   "language": "python",
   "name": "python3"
  },
  "language_info": {
   "codemirror_mode": {
    "name": "ipython",
    "version": 3
   },
   "file_extension": ".py",
   "mimetype": "text/x-python",
   "name": "python",
   "nbconvert_exporter": "python",
   "pygments_lexer": "ipython3",
   "version": "3.7.3"
  }
 },
 "nbformat": 4,
 "nbformat_minor": 2
}
